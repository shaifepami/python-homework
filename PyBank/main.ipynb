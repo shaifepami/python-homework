{
 "cells": [
  {
   "cell_type": "code",
   "execution_count": 3,
   "metadata": {},
   "outputs": [
    {
     "name": "stdout",
     "output_type": "stream",
     "text": [
      "671099.0\n",
      "86\n",
      "86\n",
      "38382578\n",
      "446309.0465116279\n"
     ]
    }
   ],
   "source": [
    "import csv\n",
    "import statistics\n",
    "from pathlib import Path\n",
    "file_path =Path(\"budget_data.csv\")\n",
    "#set the output of the text file\n",
    "text_path = \"output.txt\"\n",
    "count_of_mth =0\n",
    "sum_of_pl =0\n",
    "income = []\n",
    "previous_income = 0\n",
    "month_of_change = []\n",
    "income_change = 0\n",
    "greatest_decrease = [\"\", 9999999]\n",
    "greatest_increase = [\"\", 0]\n",
    "income_change_list = []\n",
    "income_average = 0\n",
    "with open (file_path, \"r\") as pybankcsv:\n",
    "    reader = csv.reader(pybankcsv, delimiter = ',')\n",
    "    header = next(reader) ## this is to save the header and also allow you o skip it\n",
    "    for row in reader:\n",
    "        #print(row[1])\n",
    "        #Count the total of months\n",
    "        count_of_mth +=1  ### This is just counting the number of iteration.\n",
    "               #Calculate the total income over the entire period\n",
    "        sum_of_pl += int(row[1])\n",
    "                #Calculate the average change in income between months over the entire period\n",
    "        income_change = float(row[1])- previous_income\n",
    "        #print(income_change)\n",
    "        previous_income = float(row[1])\n",
    "        #income_change_list = income_change_list + [income_change] #income_change_list.append(income_change)\n",
    "        income_change_list.append(income_change)\n",
    "        #print(income_change_list)\n",
    "        month_of_change = [month_of_change] + [row[0]]\n",
    "                #The greatest increase in income (date and amount) over the entire period\n",
    "        if income_change>greatest_increase[1]:\n",
    "            greatest_increase[1]= income_change\n",
    "            greatest_increase[0] = row[0]\n",
    "\n",
    "        #The greatest decrease in income (date and amount) over the entire period\n",
    "        if income_change<greatest_decrease[1]:\n",
    "            greatest_decrease[1]= income_change\n",
    "            greatest_decrease[0] = row[0]\n",
    "    #income_average = sum(income_change_list)/len(income_change_list)\n",
    "    income_average = statistics.mean(income_change_list)\n",
    "       #print(\"income\" + income_average)\n",
    "    print(sum(income_change_list))\n",
    "    print(len(income_change_list))\n",
    "print(count_of_mth)\n",
    "print(sum_of_pl)\n",
    "avg_of_rec = sum_of_pl/count_of_mth\n",
    "print(avg_of_rec)\n",
    "#write changes to csv\n",
    "with open(text_path, 'w') as file:\n",
    "    file.write(\"Financial Analysis\\n\")\n",
    "    file.write(\"---------------------\\n\")\n",
    "    file.write(\"Total Months: %d\\n\" % count_of_mth)\n",
    "    file.write(\"Total income: $%d\\n\" % sum_of_pl)\n",
    "    file.write(\"Average income Change $%d\\n\" % income_average)\n",
    "    file.write(\"Greatest Increase in income: %s ($%s)\\n\" % (greatest_increase[0], greatest_increase[1]))\n",
    "    file.write(\"Greatest Decrease in income: %s ($%s)\\n\" % (greatest_decrease[0], greatest_decrease[1]))"
   ]
  },
  {
   "cell_type": "code",
   "execution_count": null,
   "metadata": {},
   "outputs": [],
   "source": []
  },
  {
   "cell_type": "code",
   "execution_count": null,
   "metadata": {},
   "outputs": [],
   "source": []
  }
 ],
 "metadata": {
  "kernelspec": {
   "display_name": "Python 3",
   "language": "python",
   "name": "python3"
  },
  "language_info": {
   "codemirror_mode": {
    "name": "ipython",
    "version": 3
   },
   "file_extension": ".py",
   "mimetype": "text/x-python",
   "name": "python",
   "nbconvert_exporter": "python",
   "pygments_lexer": "ipython3",
   "version": "3.8.5"
  }
 },
 "nbformat": 4,
 "nbformat_minor": 4
}
